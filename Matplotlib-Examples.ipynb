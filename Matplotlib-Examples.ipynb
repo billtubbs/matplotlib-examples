{
 "cells": [
  {
   "cell_type": "markdown",
   "metadata": {},
   "source": [
    "# Matplotlib Examples"
   ]
  },
  {
   "cell_type": "code",
   "execution_count": 1,
   "metadata": {},
   "outputs": [],
   "source": [
    "import numpy as np\n",
    "import matplotlib.pyplot as plt\n",
    "from plot_utils import plot_stacked_bar\n",
    "\n",
    "%matplotlib inline"
   ]
  },
  {
   "cell_type": "markdown",
   "metadata": {},
   "source": [
    "## Stacked Bar Charts\n",
    "\n",
    "Matplotlib does not provide an easy way to make stacked bar charts but it is possible (see [this question and answers on stackoverflow](https://stackoverflow.com/questions/44309507/stacked-bar-plot-using-matplotlib/50205834#50205834)).\n",
    "\n",
    "Probably the easiest solution is to use Pandas which has stacked bar-plotting built in as a method on all dataframes:\n",
    "\n",
    "```\n",
    "df.plot.bar(stacked=True)\n",
    "```\n",
    "\n",
    "But if for some reason you don't want to use Pandas, I wrote a function in the plot_utils.py module to do it.  The following example shows how to use it."
   ]
  },
  {
   "cell_type": "code",
   "execution_count": 2,
   "metadata": {},
   "outputs": [
    {
     "data": {
      "image/png": "[encoded data removed]",
      "text/plain": [
       "<Figure size 432x288 with 1 Axes>"
      ]
     },
     "metadata": {
      "needs_background": "light"
     },
     "output_type": "display_data"
    }
   ],
   "source": [
    "plt.figure(figsize=(6, 4))\n",
    "\n",
    "series_labels = ['Series 1', 'Series 2']\n",
    "\n",
    "data = [\n",
    "    [0.2, 0.3, 0.35, 0.3],\n",
    "    [0.8, 0.7, 0.6, 0.5]\n",
    "]\n",
    "\n",
    "category_labels = ['Cat A', 'Cat B', 'Cat C', 'Cat D']\n",
    "\n",
    "plot_stacked_bar(\n",
    "    data, \n",
    "    series_labels, \n",
    "    category_labels=category_labels, \n",
    "    show_values=True, \n",
    "    value_format=\"{:.1f}\",\n",
    "    colors=['tab:orange', 'tab:green'],\n",
    "    y_label=\"Quantity (units)\"\n",
    ")\n",
    "\n",
    "plt.savefig('bar.png')\n",
    "plt.show()"
   ]
  },
  {
   "cell_type": "code",
   "execution_count": null,
   "metadata": {},
   "outputs": [],
   "source": []
  },
  {
   "cell_type": "code",
   "execution_count": null,
   "metadata": {},
   "outputs": [],
   "source": []
  },
  {
   "cell_type": "code",
   "execution_count": null,
   "metadata": {},
   "outputs": [],
   "source": []
  }
 ],
 "metadata": {
  "kernelspec": {
   "display_name": "Python [conda env:torch]",
   "language": "python",
   "name": "conda-env-torch-py"
  },
  "language_info": {
   "codemirror_mode": {
    "name": "ipython",
    "version": 3
   },
   "file_extension": ".py",
   "mimetype": "text/x-python",
   "name": "python",
   "nbconvert_exporter": "python",
   "pygments_lexer": "ipython3",
   "version": "3.7.4"
  }
 },
 "nbformat": 4,
 "nbformat_minor": 2
}
